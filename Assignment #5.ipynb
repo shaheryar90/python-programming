{
 "cells": [
  {
   "cell_type": "code",
   "execution_count": 1,
   "metadata": {},
   "outputs": [
    {
     "name": "stdout",
     "output_type": "stream",
     "text": [
      "Enter your number: 5\n",
      "factorial of 5 is:  120\n"
     ]
    }
   ],
   "source": [
    "#calculate the factorial of a number (a non-negative integer). The function accepts the number as an argument\n",
    "def factorial(num):\n",
    "    if num==1:\n",
    "        return num\n",
    "    else: \n",
    "        return num*factorial(num-1)\n",
    "num=int(input(\"Enter your number: \"))\n",
    "\n",
    "if num<0:\n",
    "    print(\"the factoiral is not found for negative interger\")\n",
    "elif num==0:\n",
    "    print(\"the factorial of 0 is 1\")\n",
    "else:\n",
    "    print(\"factorial of\",num,\"is: \",factorial(num) )\n"
   ]
  },
  {
   "cell_type": "code",
   "execution_count": 2,
   "metadata": {},
   "outputs": [
    {
     "name": "stdout",
     "output_type": "stream",
     "text": [
      "Original String :  You Are Very fat\n",
      "No. of Upper case characters :  3\n",
      "No. of Lower case Characters :  10\n"
     ]
    }
   ],
   "source": [
    "def string_test(s):\n",
    "    d={\"UPPER_CASE\":0, \"LOWER_CASE\":0}\n",
    "    for c in s:\n",
    "        if c.isupper():\n",
    "           d[\"UPPER_CASE\"]+=1\n",
    "        elif c.islower():\n",
    "           d[\"LOWER_CASE\"]+=1\n",
    "        else:\n",
    "           pass\n",
    "    print (\"Original String : \", s)\n",
    "    print (\"No. of Upper case characters : \", d[\"UPPER_CASE\"])\n",
    "    print (\"No. of Lower case Characters : \", d[\"LOWER_CASE\"])\n",
    "\n",
    "string_test('You Are Very fat')"
   ]
  },
  {
   "cell_type": "code",
   "execution_count": 3,
   "metadata": {},
   "outputs": [
    {
     "name": "stdout",
     "output_type": "stream",
     "text": [
      "prime number are:  2\n",
      "prime number are:  2\n",
      "prime number are:  6\n",
      "prime number are:  0\n"
     ]
    }
   ],
   "source": [
    "#Write a Python function to print the even numbers from a given list. \n",
    "def prime_number(list):\n",
    "    return list\n",
    "list=[2,5,9,2,6,0]\n",
    "for num in list:\n",
    "    if num % 2==0:\n",
    "        print(\"prime number are: \",num)\n"
   ]
  },
  {
   "cell_type": "code",
   "execution_count": 7,
   "metadata": {},
   "outputs": [
    {
     "name": "stdout",
     "output_type": "stream",
     "text": [
      "True\n"
     ]
    }
   ],
   "source": [
    "#Write a Python function that checks whether a passed string is palindrome or not. \n",
    "def ispalindrome(string):\n",
    "    left_pos=0\n",
    "    right_pos=len(string)-1\n",
    "    while right_pos>=left_pos:\n",
    "        if not string[left_pos]==string[right_pos]:\n",
    "            return False\n",
    "        left_pos+=1\n",
    "        right_pos-=1\n",
    "    return True\n",
    "print(ispalindrome('madam'))"
   ]
  },
  {
   "cell_type": "code",
   "execution_count": 8,
   "metadata": {},
   "outputs": [
    {
     "name": "stdout",
     "output_type": "stream",
     "text": [
      "True\n"
     ]
    }
   ],
   "source": [
    "#Write a Python function that takes a number as a parameter and check the number is prime or not. \n",
    "def test_prime(n):\n",
    "    if (n==1):\n",
    "        return False\n",
    "    elif (n==2):\n",
    "        return True;\n",
    "    else:\n",
    "        for x in range(2,n):\n",
    "            if(n % x==0):\n",
    "                return False\n",
    "        return True             \n",
    "print(test_prime(2))\n",
    "   "
   ]
  },
  {
   "cell_type": "code",
   "execution_count": 9,
   "metadata": {},
   "outputs": [],
   "source": [
    "def shoppinglist(grocery,makeup,**parameter):\n",
    "    print(\"grocery: \"+grocery+ \"\\nmakeup: \"+makeup+ \"\\nskin_product: \"+skin_product+ \"\\nfragnaces: \"+fragnaces)\n",
    "    for key_value in parameter.items():\n",
    "        print(key+ \":\" +value)\n",
    "        shoppinglist(\"beverages\",\"faces\",skin_product=\"fair n lovely\",fragnaces=\"perfumes\")\n"
   ]
  },
  {
   "cell_type": "code",
   "execution_count": null,
   "metadata": {},
   "outputs": [],
   "source": []
  }
 ],
 "metadata": {
  "kernelspec": {
   "display_name": "Python 3",
   "language": "python",
   "name": "python3"
  },
  "language_info": {
   "codemirror_mode": {
    "name": "ipython",
    "version": 3
   },
   "file_extension": ".py",
   "mimetype": "text/x-python",
   "name": "python",
   "nbconvert_exporter": "python",
   "pygments_lexer": "ipython3",
   "version": "3.7.4"
  }
 },
 "nbformat": 4,
 "nbformat_minor": 2
}
