{
 "cells": [
  {
   "cell_type": "code",
   "execution_count": 1,
   "metadata": {},
   "outputs": [
    {
     "name": "stdout",
     "output_type": "stream",
     "text": [
      "{'first_name': 'Rida', 'last_name': 'Ali', 'age': 24, 'city': 'karachi'}\n"
     ]
    }
   ],
   "source": [
    "personal_inforamtion={\n",
    "    \"first_name\":\"Rida\",\n",
    "    \"last_name\":\"Ali\",\n",
    "    \"age\":24,\n",
    "    \"city\":\"karachi\"\n",
    "}\n",
    "print(personal_inforamtion)"
   ]
  },
  {
   "cell_type": "code",
   "execution_count": 2,
   "metadata": {},
   "outputs": [
    {
     "name": "stdout",
     "output_type": "stream",
     "text": [
      "{'first_name': 'Rida', 'last_name': 'Ali', 'age': 24, 'city': 'karachi', 'Qualification': 'Bachelor of engineeirng'}\n"
     ]
    }
   ],
   "source": [
    "personal_information={\n",
    "    \"first_name\":\"Rida\",\n",
    "    \"last_name\":\"Ali\",\n",
    "    \"age\":24,\n",
    "    \"city\":\"karachi\"\n",
    "}\n",
    "personal_information[\"Qualification\"]=\"Bachelor of engineeirng\"\n",
    "print(personal_information)"
   ]
  },
  {
   "cell_type": "code",
   "execution_count": 3,
   "metadata": {},
   "outputs": [
    {
     "name": "stdout",
     "output_type": "stream",
     "text": [
      "{'first_name': 'Rida', 'last_name': 'Ali', 'age': 24, 'city': 'karachi'}\n"
     ]
    }
   ],
   "source": [
    "personal_information={\n",
    "    \"first_name\":\"Rida\",\n",
    "    \"last_name\":\"Ali\",\n",
    "    \"age\":24,\n",
    "    \"city\":\"karachi\",\n",
    "    \"Qualification\":\"bachelor of engineering\"\n",
    "}\n",
    "del personal_information[\"Qualification\"]\n",
    "print(personal_information)"
   ]
  },
  {
   "cell_type": "code",
   "execution_count": 9,
   "metadata": {},
   "outputs": [
    {
     "name": "stdout",
     "output_type": "stream",
     "text": [
      "('karachi', {'country': 'pakistan', 'population': 'three crore', 'fact': \"it's the sixth largest city in the world by population\"})\n",
      "('Dhaka', {'country': 'Bangladesh', 'population': 'eighty nine lac', 'fact': \"it's has some great textile spots in the region,\"})\n",
      "('canberra', {'country': 'Australia', 'population': 'forty lac', 'fact': 'Australia largest inland city'})\n"
     ]
    }
   ],
   "source": [
    "cities={\n",
    "    \"karachi\":{\"country\":\"pakistan\",\n",
    "             \"population\":\"three crore\",\n",
    "             \"fact\":\"it's the sixth largest city in the world by population\"},\n",
    "    \"Dhaka\":{\"country\":\"Bangladesh\",\n",
    "            \"population\":\"eighty nine lac\",\n",
    "             \"fact\":\"it's has some great textile spots in the region,\"},\n",
    "    \"canberra\":{\"country\":\"Australia\",\n",
    "               \"population\":\"forty lac\",\n",
    "               \"fact\":\"Australia largest inland city\"}\n",
    "    }\n",
    "for each_value in cities.items():\n",
    "    print(each_value)"
   ]
  },
  {
   "cell_type": "code",
   "execution_count": 10,
   "metadata": {},
   "outputs": [
    {
     "name": "stdout",
     "output_type": "stream",
     "text": [
      "                  different ticket prices depends on their age\n",
      "what is your age?: 14\n",
      "the ticket is 15$ \n"
     ]
    }
   ],
   "source": [
    "print(\"                  different ticket prices depends on their age\")\n",
    "person_age=int(input(\"what is your age?: \" ))\n",
    "if person_age<3:\n",
    "    print(\"the ticket is free\")\n",
    "elif person_age>3 and person_age<12:\n",
    "    print(\"the ticket is 10$\")\n",
    "else:\n",
    "    print(\"the ticket is 15$ \")\n"
   ]
  },
  {
   "cell_type": "code",
   "execution_count": 11,
   "metadata": {},
   "outputs": [
    {
     "name": "stdout",
     "output_type": "stream",
     "text": [
      "one of my favourite book is Alice in wonderland\n"
     ]
    }
   ],
   "source": [
    "def favorite_book(title):\n",
    "    print(\"one of my favourite book is \"+ title)\n",
    "    \n",
    "favorite_book('Alice in wonderland')\n",
    "    "
   ]
  },
  {
   "cell_type": "code",
   "execution_count": 12,
   "metadata": {},
   "outputs": [
    {
     "name": "stdout",
     "output_type": "stream",
     "text": [
      "guess: 6\n",
      "hint: greater\n",
      "guess: 8\n",
      "hint: greater\n",
      "guess: 9\n",
      "you won !\n"
     ]
    }
   ],
   "source": [
    "secret_number=9\n",
    "guess_count=0\n",
    "guess_limit=3\n",
    "while guess_count<guess_limit:\n",
    "    guess=int(input(\"guess: \"))\n",
    "    print\n",
    "    guess_count+=1\n",
    "    if guess==secret_number:\n",
    "        print(\"you won !\")\n",
    "        break\n",
    "    elif guess<secret_number:\n",
    "        print(\"hint: greater\")\n",
    "    elif guess>secret_number:\n",
    "        print(\"hint:smaller\")\n",
    "    else:\n",
    "        print(\"sorry you failed !\")\n"
   ]
  },
  {
   "cell_type": "code",
   "execution_count": null,
   "metadata": {},
   "outputs": [],
   "source": []
  }
 ],
 "metadata": {
  "kernelspec": {
   "display_name": "Python 3",
   "language": "python",
   "name": "python3"
  },
  "language_info": {
   "codemirror_mode": {
    "name": "ipython",
    "version": 3
   },
   "file_extension": ".py",
   "mimetype": "text/x-python",
   "name": "python",
   "nbconvert_exporter": "python",
   "pygments_lexer": "ipython3",
   "version": "3.7.4"
  }
 },
 "nbformat": 4,
 "nbformat_minor": 2
}
