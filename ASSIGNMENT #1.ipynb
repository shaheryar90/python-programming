{
 "cells": [
  {
   "cell_type": "code",
   "execution_count": 1,
   "metadata": {},
   "outputs": [
    {
     "name": "stdout",
     "output_type": "stream",
     "text": [
      "Twinkle, twinkle, little star,\n",
      "      How I wonder what you are!\n",
      "              up above the world so high\n",
      "              like the diamond  in the sky \n",
      "Twinkle, twinkle, little  star,\n",
      "       How i wonder what you are!\n"
     ]
    }
   ],
   "source": [
    "a=\"Twinkle, twinkle, little star,\"\n",
    "print (a)\n",
    "b=\"      How I wonder what you are!\"\n",
    "print (b)\n",
    "c=\"              up above the world so high\"\n",
    "print (c)\n",
    "d=\"              like the diamond  in the sky \"\n",
    "print (d)\n",
    "e=\"Twinkle, twinkle, little  star,\"\n",
    "print (e)\n",
    "f=\"       How i wonder what you are!\"\n",
    "print (f)"
   ]
  },
  {
   "cell_type": "code",
   "execution_count": 2,
   "metadata": {},
   "outputs": [
    {
     "name": "stdout",
     "output_type": "stream",
     "text": [
      "python version 3.7\n"
     ]
    }
   ],
   "source": [
    "print(\"python version 3.7\")\n"
   ]
  },
  {
   "cell_type": "code",
   "execution_count": 3,
   "metadata": {},
   "outputs": [
    {
     "name": "stdout",
     "output_type": "stream",
     "text": [
      "current time: 6:34 pm\n",
      "current date: 24-nov-2019\n"
     ]
    }
   ],
   "source": [
    "time=\"6:34 pm\"\n",
    "print(\"current time:\",time)\n",
    "date=\"24-nov-2019\"\n",
    "print(\"current date:\",date)\n"
   ]
  },
  {
   "cell_type": "code",
   "execution_count": 4,
   "metadata": {},
   "outputs": [
    {
     "name": "stdout",
     "output_type": "stream",
     "text": [
      "enter the value of radius of circle2\n",
      "radius value is 2\n",
      "Area_of_circle is 12.568\n"
     ]
    }
   ],
   "source": [
    "Radius=input(\"enter the value of radius of circle\")\n",
    "print(\"radius value is\",Radius)\n",
    "Area_circle=3.142*float(Radius)**2\n",
    "print(\"Area_of_circle is\",Area_circle)\n"
   ]
  },
  {
   "cell_type": "code",
   "execution_count": 5,
   "metadata": {},
   "outputs": [
    {
     "name": "stdout",
     "output_type": "stream",
     "text": [
      "Enter your first_name: shaheryar\n",
      "Enter your last_name:  khan\n",
      "khan  shaheryar\n"
     ]
    }
   ],
   "source": [
    "x=input(\"Enter your first_name: \")\n",
    "y=input(\"Enter your last_name:  \")\n",
    "print(y+\"  \"+x)"
   ]
  },
  {
   "cell_type": "code",
   "execution_count": 6,
   "metadata": {},
   "outputs": [
    {
     "name": "stdout",
     "output_type": "stream",
     "text": [
      "Enter the value of first number10\n",
      "Enter the value of second number20\n",
      "1020\n"
     ]
    }
   ],
   "source": [
    "x=input(\"Enter the value of first number\")\n",
    "y=input(\"Enter the value of second number\")\n",
    "print(x+y)"
   ]
  },
  {
   "cell_type": "code",
   "execution_count": null,
   "metadata": {},
   "outputs": [],
   "source": []
  }
 ],
 "metadata": {
  "kernelspec": {
   "display_name": "Python 3",
   "language": "python",
   "name": "python3"
  },
  "language_info": {
   "codemirror_mode": {
    "name": "ipython",
    "version": 3
   },
   "file_extension": ".py",
   "mimetype": "text/x-python",
   "name": "python",
   "nbconvert_exporter": "python",
   "pygments_lexer": "ipython3",
   "version": "3.7.4"
  }
 },
 "nbformat": 4,
 "nbformat_minor": 2
}
