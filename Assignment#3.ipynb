{
 "cells": [
  {
   "cell_type": "code",
   "execution_count": 1,
   "metadata": {},
   "outputs": [
    {
     "name": "stdout",
     "output_type": "stream",
     "text": [
      "enter your first value 3\n",
      "enter your second value 4\n",
      "enter your operator**\n",
      "81 answer\n"
     ]
    }
   ],
   "source": [
    "val1=input(\"enter your first value \")\n",
    "val2=input(\"enter your second value \")\n",
    "operator=input(\"enter your operator\")\n",
    "val1=int(val1)\n",
    "val2=int(val2)\n",
    "\n",
    "if operator =='+':\n",
    "    val=val1+val2\n",
    "    print(val,\"answer\")\n",
    "elif operator =='-':\n",
    "    val=val1-val2\n",
    "    print(val,'answer')\n",
    "elif operator =='*':\n",
    "    val=val1*val2\n",
    "    print(val,'answer')\n",
    "elif operator =='/':\n",
    "    val=val1/val2\n",
    "    print(val,'answer')\n",
    "elif operator =='**':\n",
    "    val=val1**val2\n",
    "    print(val,'answer')\n",
    "else:\n",
    "    print('enter correct operator')\n"
   ]
  },
  {
   "cell_type": "code",
   "execution_count": 2,
   "metadata": {},
   "outputs": [
    {
     "name": "stdout",
     "output_type": "stream",
     "text": [
      "enter your number9\n",
      "that is not correct\n",
      "that is not correct\n",
      "that is not correct\n",
      "that is not correct\n",
      "that is not correct\n",
      "that is not correct\n"
     ]
    }
   ],
   "source": [
    "numeric_value=[2,5,9,7,5,1]\n",
    "value=input('enter your number')\n",
    "for i in numeric_value:\n",
    "    if value==i:\n",
    "        print(\"that is correct\")\n",
    "    else:\n",
    "        print(\"that is not correct\")\n",
    "    "
   ]
  },
  {
   "cell_type": "code",
   "execution_count": 3,
   "metadata": {},
   "outputs": [
    {
     "name": "stdout",
     "output_type": "stream",
     "text": [
      "{'first_name': 'jawaad', 'last name': 'ali', 'address': 'karachi'}\n"
     ]
    }
   ],
   "source": [
    "customer={\"first_name\":\"jawaad\",\n",
    "          \"last name\":\"ali\",\n",
    "          \"address\":\"R -960 samnabad\"}\n",
    "customer[\"address\"]=\"karachi\"\n",
    "print(customer)\n",
    "          "
   ]
  },
  {
   "cell_type": "code",
   "execution_count": 4,
   "metadata": {},
   "outputs": [
    {
     "name": "stdout",
     "output_type": "stream",
     "text": [
      "25\n"
     ]
    }
   ],
   "source": [
    "d={\"a\":1,\"b\":2,\"c\":5,\"d\":8,\"e\":9}\n",
    "print(sum(d.values()))"
   ]
  },
  {
   "cell_type": "code",
   "execution_count": 5,
   "metadata": {},
   "outputs": [
    {
     "ename": "NameError",
     "evalue": "name 'word_freq_dic' is not defined",
     "output_type": "error",
     "traceback": [
      "\u001b[1;31m---------------------------------------------------------------------------\u001b[0m",
      "\u001b[1;31mNameError\u001b[0m                                 Traceback (most recent call last)",
      "\u001b[1;32m<ipython-input-5-800c0458feb8>\u001b[0m in \u001b[0;36m<module>\u001b[1;34m\u001b[0m\n\u001b[0;32m      4\u001b[0m     \u001b[1;34m\"test\"\u001b[0m \u001b[1;33m:\u001b[0m \u001b[1;36m43\u001b[0m\u001b[1;33m,\u001b[0m\u001b[1;33m\u001b[0m\u001b[1;33m\u001b[0m\u001b[0m\n\u001b[0;32m      5\u001b[0m     \"this\" : 78}\n\u001b[1;32m----> 6\u001b[1;33m \u001b[1;32mif\u001b[0m \u001b[1;34m'test'\u001b[0m\u001b[1;32min\u001b[0m \u001b[0mword_freq_dic\u001b[0m\u001b[1;33m:\u001b[0m\u001b[1;33m\u001b[0m\u001b[1;33m\u001b[0m\u001b[0m\n\u001b[0m\u001b[0;32m      7\u001b[0m     \u001b[0mprint\u001b[0m\u001b[1;33m(\u001b[0m\u001b[1;34m\"Yes 'test' key exists in dict\"\u001b[0m\u001b[1;33m)\u001b[0m\u001b[1;33m\u001b[0m\u001b[1;33m\u001b[0m\u001b[0m\n\u001b[0;32m      8\u001b[0m \u001b[1;32melse\u001b[0m\u001b[1;33m:\u001b[0m\u001b[1;33m\u001b[0m\u001b[1;33m\u001b[0m\u001b[0m\n",
      "\u001b[1;31mNameError\u001b[0m: name 'word_freq_dic' is not defined"
     ]
    }
   ],
   "source": [
    "word_Freq_Dic = {\n",
    "    \"Hello\": 56,\n",
    "    \"at\" : 23 ,\n",
    "    \"test\" : 43,\n",
    "    \"this\" : 78}\n",
    "if 'test'in word_freq_dic:\n",
    "    print(\"Yes 'test' key exists in dict\")\n",
    "else:\n",
    "    print(\"No 'test' key does not exists in dict\")    \n"
   ]
  },
  {
   "cell_type": "code",
   "execution_count": null,
   "metadata": {},
   "outputs": [],
   "source": []
  }
 ],
 "metadata": {
  "kernelspec": {
   "display_name": "Python 3",
   "language": "python",
   "name": "python3"
  },
  "language_info": {
   "codemirror_mode": {
    "name": "ipython",
    "version": 3
   },
   "file_extension": ".py",
   "mimetype": "text/x-python",
   "name": "python",
   "nbconvert_exporter": "python",
   "pygments_lexer": "ipython3",
   "version": "3.7.4"
  }
 },
 "nbformat": 4,
 "nbformat_minor": 2
}
