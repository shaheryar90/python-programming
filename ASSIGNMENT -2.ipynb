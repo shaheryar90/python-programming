{
 "cells": [
  {
   "cell_type": "code",
   "execution_count": 1,
   "metadata": {},
   "outputs": [
    {
     "name": "stdout",
     "output_type": "stream",
     "text": [
      "                                      marksheet                     \n",
      "Enter your marks of english out of 100? 86\n",
      "Enter your marks of maths out of 100? 96\n",
      "Enter your marks of Urdu out of 100? 82\n",
      "Enter your marks of science out of 100? 98\n",
      "Enter your marks of computer out of 100? 91\n",
      "total marks 453\n",
      "grade A+\n"
     ]
    }
   ],
   "source": [
    "print(\"                                      marksheet                     \")\n",
    "x=int(input(\"Enter your marks of english out of 100? \"))\n",
    "y=int(input(\"Enter your marks of maths out of 100? \"))\n",
    "z=int(input(\"Enter your marks of Urdu out of 100? \"))\n",
    "a=int(input(\"Enter your marks of science out of 100? \"))\n",
    "b=int(input(\"Enter your marks of computer out of 100? \"))\n",
    "marks=x+y+z+a+b\n",
    "print (\"total marks\",marks)\n",
    "per=(x+y+z+a+b)*100/500\n",
    "if per>=80 and per<=100:\n",
    "    print (\"grade A+\")\n",
    "elif per>=70 and per<=80:\n",
    "    print (\"grade A\")\n",
    "elif per>=60 and per<=70:\n",
    "    print (\"grade B\")\n",
    "elif per>=50 and per<=60:\n",
    "    print(\"grade c\")\n",
    "else:\n",
    "    print(\"failed\")\n"
   ]
  },
  {
   "cell_type": "code",
   "execution_count": 3,
   "metadata": {
    "scrolled": true
   },
   "outputs": [
    {
     "name": "stdout",
     "output_type": "stream",
     "text": [
      "Enter your number 2\n",
      "given number is even\n"
     ]
    }
   ],
   "source": [
    "x=int(input(\"Enter your number \"))\n",
    "remainder=x%2\n",
    "if remainder==1 :\n",
    "      print(\"given number is odd\")\n",
    "else:\n",
    "      print(\"given number is even\")"
   ]
  },
  {
   "cell_type": "code",
   "execution_count": 4,
   "metadata": {},
   "outputs": [
    {
     "name": "stdout",
     "output_type": "stream",
     "text": [
      "the length of list is:  4\n"
     ]
    }
   ],
   "source": [
    "a=[]\n",
    "a.append(\"hello\")\n",
    "a.append(\"world\")\n",
    "a.append(\"for\")\n",
    "a.append(\"pakistani\")\n",
    "print(\"the length of list is: \",len(a))"
   ]
  },
  {
   "cell_type": "code",
   "execution_count": 5,
   "metadata": {},
   "outputs": [
    {
     "name": "stdout",
     "output_type": "stream",
     "text": [
      "sum all the numeric item in the list is:  35\n"
     ]
    }
   ],
   "source": [
    "arr=[2,5,6,7,8,9]\n",
    "arr2=arr[1]+arr[2]+arr[3]+arr[4]+arr[5]\n",
    "print(\"sum all the numeric item in the list is: \",arr2)"
   ]
  },
  {
   "cell_type": "code",
   "execution_count": 6,
   "metadata": {},
   "outputs": [
    {
     "name": "stdout",
     "output_type": "stream",
     "text": [
      "largest number of the list is :  89\n"
     ]
    }
   ],
   "source": [
    "a=[1, 1, 2, 3, 5, 8, 13, 21, 34, 55, 89]\n",
    "print(\"largest number of the list is : \",max(a))"
   ]
  },
  {
   "cell_type": "code",
   "execution_count": 7,
   "metadata": {},
   "outputs": [
    {
     "name": "stdout",
     "output_type": "stream",
     "text": [
      "element of the list is less than 5 :  1\n",
      "element of the list is less than 5 :  1\n",
      "element of the list is less than 5 :  2\n",
      "element of the list is less than 5 :  3\n"
     ]
    }
   ],
   "source": [
    "a = [1, 1, 2, 3, 5, 8, 13, 21, 34, 55, 89]\n",
    "\n",
    "for i in a:\n",
    "\n",
    "    if i < 5:\n",
    "        print(\"element of the list is less than 5 : \",i)"
   ]
  },
  {
   "cell_type": "code",
   "execution_count": null,
   "metadata": {},
   "outputs": [],
   "source": []
  }
 ],
 "metadata": {
  "kernelspec": {
   "display_name": "Python 3",
   "language": "python",
   "name": "python3"
  },
  "language_info": {
   "codemirror_mode": {
    "name": "ipython",
    "version": 3
   },
   "file_extension": ".py",
   "mimetype": "text/x-python",
   "name": "python",
   "nbconvert_exporter": "python",
   "pygments_lexer": "ipython3",
   "version": "3.7.4"
  }
 },
 "nbformat": 4,
 "nbformat_minor": 2
}
